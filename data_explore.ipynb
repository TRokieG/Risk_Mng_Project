{
 "cells": [
  {
   "cell_type": "markdown",
   "metadata": {},
   "source": [
    "### Data Preprocessing by filling missing value with mean of each column "
   ]
  },
  {
   "cell_type": "code",
   "execution_count": 268,
   "metadata": {},
   "outputs": [],
   "source": [
    "import numpy as np\n",
    "import pandas as pd\n",
    "from sklearn.preprocessing import StandardScaler\n",
    "from matplotlib import pyplot as plt "
   ]
  },
  {
   "cell_type": "code",
   "execution_count": 269,
   "metadata": {},
   "outputs": [],
   "source": [
    "# Read Data\n",
    "X = pd.read_excel('Credit Data.xlsx')\n",
    "X = X.dropna(subset=['Default'])\n",
    "y = X['Default']\n",
    "X = X.drop(columns='Default')"
   ]
  },
  {
   "cell_type": "code",
   "execution_count": 270,
   "metadata": {},
   "outputs": [],
   "source": [
    "# Normalize data and store into another pd dataframe\n",
    "scaler = StandardScaler()\n",
    "scaler.fit(X)\n",
    "normalized_data = scaler.transform(X)\n",
    "normalized_data = pd.DataFrame(normalized_data)\n",
    "normalized_data.columns = X.columns"
   ]
  },
  {
   "cell_type": "code",
   "execution_count": 271,
   "metadata": {},
   "outputs": [
    {
     "data": {
      "text/html": [
       "<div>\n",
       "<style scoped>\n",
       "    .dataframe tbody tr th:only-of-type {\n",
       "        vertical-align: middle;\n",
       "    }\n",
       "\n",
       "    .dataframe tbody tr th {\n",
       "        vertical-align: top;\n",
       "    }\n",
       "\n",
       "    .dataframe thead th {\n",
       "        text-align: right;\n",
       "    }\n",
       "</style>\n",
       "<table border=\"1\" class=\"dataframe\">\n",
       "  <thead>\n",
       "    <tr style=\"text-align: right;\">\n",
       "      <th></th>\n",
       "      <th>TA</th>\n",
       "      <th>TDE16</th>\n",
       "      <th>TDE17</th>\n",
       "      <th>TDyoy</th>\n",
       "      <th>TDC16</th>\n",
       "      <th>TDC17</th>\n",
       "      <th>TDCyoy</th>\n",
       "      <th>UFCF16</th>\n",
       "      <th>UFCF17</th>\n",
       "      <th>UFCFyoy</th>\n",
       "      <th>IE16</th>\n",
       "      <th>IE17</th>\n",
       "      <th>IEyoy</th>\n",
       "      <th>OLC516</th>\n",
       "      <th>OLC517</th>\n",
       "      <th>OLCyoy</th>\n",
       "      <th>EB16</th>\n",
       "      <th>EB17</th>\n",
       "      <th>EByoy</th>\n",
       "    </tr>\n",
       "  </thead>\n",
       "  <tbody>\n",
       "    <tr>\n",
       "      <th>0</th>\n",
       "      <td>-0.140112</td>\n",
       "      <td>1.540910e-17</td>\n",
       "      <td>-9.155064e-02</td>\n",
       "      <td>1.209607e-17</td>\n",
       "      <td>-2.376545e-17</td>\n",
       "      <td>-6.106489e-02</td>\n",
       "      <td>5.569668e-17</td>\n",
       "      <td>-0.110876</td>\n",
       "      <td>-1.701367e-01</td>\n",
       "      <td>-9.920604e-02</td>\n",
       "      <td>-0.272549</td>\n",
       "      <td>-5.273853e-17</td>\n",
       "      <td>-3.759005e-16</td>\n",
       "      <td>-2.245845e-16</td>\n",
       "      <td>4.691398e-16</td>\n",
       "      <td>2.682023e-16</td>\n",
       "      <td>-0.188985</td>\n",
       "      <td>-0.198446</td>\n",
       "      <td>-0.117581</td>\n",
       "    </tr>\n",
       "    <tr>\n",
       "      <th>1</th>\n",
       "      <td>-0.140104</td>\n",
       "      <td>1.540910e-17</td>\n",
       "      <td>-2.781859e-17</td>\n",
       "      <td>1.209607e-17</td>\n",
       "      <td>2.172522e-01</td>\n",
       "      <td>2.100858e-01</td>\n",
       "      <td>1.511732e-01</td>\n",
       "      <td>-0.110751</td>\n",
       "      <td>-1.704761e-01</td>\n",
       "      <td>-9.939326e-02</td>\n",
       "      <td>-0.272140</td>\n",
       "      <td>-2.642007e-01</td>\n",
       "      <td>-1.754581e-01</td>\n",
       "      <td>-2.377496e-01</td>\n",
       "      <td>-2.118828e-01</td>\n",
       "      <td>-1.879347e-01</td>\n",
       "      <td>-0.188931</td>\n",
       "      <td>-0.198446</td>\n",
       "      <td>-0.117744</td>\n",
       "    </tr>\n",
       "    <tr>\n",
       "      <th>2</th>\n",
       "      <td>-0.140089</td>\n",
       "      <td>1.540910e-17</td>\n",
       "      <td>-3.260486e-02</td>\n",
       "      <td>1.209607e-17</td>\n",
       "      <td>8.823338e-03</td>\n",
       "      <td>-2.872915e-02</td>\n",
       "      <td>9.830592e-02</td>\n",
       "      <td>-0.110899</td>\n",
       "      <td>-1.704445e-01</td>\n",
       "      <td>-9.945087e-02</td>\n",
       "      <td>-0.267364</td>\n",
       "      <td>-2.610310e-01</td>\n",
       "      <td>-1.718730e-01</td>\n",
       "      <td>-2.245845e-16</td>\n",
       "      <td>4.691398e-16</td>\n",
       "      <td>2.682023e-16</td>\n",
       "      <td>-0.188844</td>\n",
       "      <td>-0.198446</td>\n",
       "      <td>-0.117644</td>\n",
       "    </tr>\n",
       "    <tr>\n",
       "      <th>3</th>\n",
       "      <td>-0.140165</td>\n",
       "      <td>1.540910e-17</td>\n",
       "      <td>-2.781859e-17</td>\n",
       "      <td>1.209607e-17</td>\n",
       "      <td>1.001777e-02</td>\n",
       "      <td>-8.763504e-18</td>\n",
       "      <td>5.569668e-17</td>\n",
       "      <td>-0.110547</td>\n",
       "      <td>-2.395044e-16</td>\n",
       "      <td>9.874225e-17</td>\n",
       "      <td>-0.271184</td>\n",
       "      <td>-2.636913e-01</td>\n",
       "      <td>-3.759005e-16</td>\n",
       "      <td>-2.245845e-16</td>\n",
       "      <td>4.691398e-16</td>\n",
       "      <td>2.682023e-16</td>\n",
       "      <td>-0.188876</td>\n",
       "      <td>-0.198441</td>\n",
       "      <td>-0.117688</td>\n",
       "    </tr>\n",
       "    <tr>\n",
       "      <th>4</th>\n",
       "      <td>-0.140109</td>\n",
       "      <td>-1.779662e-01</td>\n",
       "      <td>-7.349089e-02</td>\n",
       "      <td>-6.065806e-02</td>\n",
       "      <td>-7.282480e-02</td>\n",
       "      <td>-4.548700e-02</td>\n",
       "      <td>-1.263802e-01</td>\n",
       "      <td>-0.110695</td>\n",
       "      <td>-1.706340e-01</td>\n",
       "      <td>-9.942206e-02</td>\n",
       "      <td>-0.272208</td>\n",
       "      <td>-2.614272e-01</td>\n",
       "      <td>-1.750100e-01</td>\n",
       "      <td>-2.245845e-16</td>\n",
       "      <td>4.691398e-16</td>\n",
       "      <td>2.682023e-16</td>\n",
       "      <td>-0.188876</td>\n",
       "      <td>-0.198441</td>\n",
       "      <td>-0.117688</td>\n",
       "    </tr>\n",
       "  </tbody>\n",
       "</table>\n",
       "</div>"
      ],
      "text/plain": [
       "         TA         TDE16         TDE17         TDyoy         TDC16  \\\n",
       "0 -0.140112  1.540910e-17 -9.155064e-02  1.209607e-17 -2.376545e-17   \n",
       "1 -0.140104  1.540910e-17 -2.781859e-17  1.209607e-17  2.172522e-01   \n",
       "2 -0.140089  1.540910e-17 -3.260486e-02  1.209607e-17  8.823338e-03   \n",
       "3 -0.140165  1.540910e-17 -2.781859e-17  1.209607e-17  1.001777e-02   \n",
       "4 -0.140109 -1.779662e-01 -7.349089e-02 -6.065806e-02 -7.282480e-02   \n",
       "\n",
       "          TDC17        TDCyoy    UFCF16        UFCF17       UFCFyoy      IE16  \\\n",
       "0 -6.106489e-02  5.569668e-17 -0.110876 -1.701367e-01 -9.920604e-02 -0.272549   \n",
       "1  2.100858e-01  1.511732e-01 -0.110751 -1.704761e-01 -9.939326e-02 -0.272140   \n",
       "2 -2.872915e-02  9.830592e-02 -0.110899 -1.704445e-01 -9.945087e-02 -0.267364   \n",
       "3 -8.763504e-18  5.569668e-17 -0.110547 -2.395044e-16  9.874225e-17 -0.271184   \n",
       "4 -4.548700e-02 -1.263802e-01 -0.110695 -1.706340e-01 -9.942206e-02 -0.272208   \n",
       "\n",
       "           IE17         IEyoy        OLC516        OLC517        OLCyoy  \\\n",
       "0 -5.273853e-17 -3.759005e-16 -2.245845e-16  4.691398e-16  2.682023e-16   \n",
       "1 -2.642007e-01 -1.754581e-01 -2.377496e-01 -2.118828e-01 -1.879347e-01   \n",
       "2 -2.610310e-01 -1.718730e-01 -2.245845e-16  4.691398e-16  2.682023e-16   \n",
       "3 -2.636913e-01 -3.759005e-16 -2.245845e-16  4.691398e-16  2.682023e-16   \n",
       "4 -2.614272e-01 -1.750100e-01 -2.245845e-16  4.691398e-16  2.682023e-16   \n",
       "\n",
       "       EB16      EB17     EByoy  \n",
       "0 -0.188985 -0.198446 -0.117581  \n",
       "1 -0.188931 -0.198446 -0.117744  \n",
       "2 -0.188844 -0.198446 -0.117644  \n",
       "3 -0.188876 -0.198441 -0.117688  \n",
       "4 -0.188876 -0.198441 -0.117688  "
      ]
     },
     "execution_count": 271,
     "metadata": {},
     "output_type": "execute_result"
    }
   ],
   "source": [
    "# fill in missing values by mean of column\n",
    "for col in normalized_data.columns:\n",
    "    normalized_data[col].fillna((normalized_data[col].mean()), inplace=True)\n",
    "normalized_data.head(5)"
   ]
  },
  {
   "cell_type": "code",
   "execution_count": 272,
   "metadata": {},
   "outputs": [
    {
     "data": {
      "text/html": [
       "<div>\n",
       "<style scoped>\n",
       "    .dataframe tbody tr th:only-of-type {\n",
       "        vertical-align: middle;\n",
       "    }\n",
       "\n",
       "    .dataframe tbody tr th {\n",
       "        vertical-align: top;\n",
       "    }\n",
       "\n",
       "    .dataframe thead th {\n",
       "        text-align: right;\n",
       "    }\n",
       "</style>\n",
       "<table border=\"1\" class=\"dataframe\">\n",
       "  <thead>\n",
       "    <tr style=\"text-align: right;\">\n",
       "      <th></th>\n",
       "      <th>TA</th>\n",
       "      <th>TDE16</th>\n",
       "      <th>TDE17</th>\n",
       "      <th>TDyoy</th>\n",
       "      <th>TDC16</th>\n",
       "      <th>TDC17</th>\n",
       "      <th>TDCyoy</th>\n",
       "      <th>UFCF16</th>\n",
       "      <th>UFCF17</th>\n",
       "      <th>UFCFyoy</th>\n",
       "      <th>IE16</th>\n",
       "      <th>IE17</th>\n",
       "      <th>IEyoy</th>\n",
       "      <th>OLC516</th>\n",
       "      <th>OLC517</th>\n",
       "      <th>OLCyoy</th>\n",
       "      <th>EB16</th>\n",
       "      <th>EB17</th>\n",
       "      <th>EByoy</th>\n",
       "    </tr>\n",
       "  </thead>\n",
       "  <tbody>\n",
       "  </tbody>\n",
       "</table>\n",
       "</div>"
      ],
      "text/plain": [
       "Empty DataFrame\n",
       "Columns: [TA, TDE16, TDE17, TDyoy, TDC16, TDC17, TDCyoy, UFCF16, UFCF17, UFCFyoy, IE16, IE17, IEyoy, OLC516, OLC517, OLCyoy, EB16, EB17, EByoy]\n",
       "Index: []"
      ]
     },
     "execution_count": 272,
     "metadata": {},
     "output_type": "execute_result"
    }
   ],
   "source": [
    "# check if still have missing values \n",
    "null_data = normalized_data[normalized_data.isnull().any(axis=1)]\n",
    "null_data"
   ]
  },
  {
   "cell_type": "code",
   "execution_count": 273,
   "metadata": {},
   "outputs": [],
   "source": [
    "# Correlation check \n",
    "corr = normalized_data.corr()"
   ]
  },
  {
   "cell_type": "code",
   "execution_count": 274,
   "metadata": {},
   "outputs": [
    {
     "data": {
      "text/plain": [
       "<matplotlib.image.AxesImage at 0x11efc2e10>"
      ]
     },
     "execution_count": 274,
     "metadata": {},
     "output_type": "execute_result"
    },
    {
     "data": {
      "image/png": "[encoded data removed]",
      "text/plain": [
       "<Figure size 432x288 with 1 Axes>"
      ]
     },
     "metadata": {
      "needs_background": "light"
     },
     "output_type": "display_data"
    }
   ],
   "source": [
    "%matplotlib inline\n",
    "plt.imshow(corr,cmap='hot',interpolation='nearest')"
   ]
  },
  {
   "cell_type": "code",
   "execution_count": 275,
   "metadata": {},
   "outputs": [
    {
     "name": "stdout",
     "output_type": "stream",
     "text": [
      "TDE17   TDyoy 0.936800444723018\n",
      "TDyoy   TDE17 0.936800444723018\n"
     ]
    }
   ],
   "source": [
    "# check if we have correlation between two variables > 0.8\n",
    "for col in corr.columns:\n",
    "    for j, val in enumerate(corr[col]):\n",
    "        if val > 0.8:\n",
    "            if col != corr.columns[j]:\n",
    "                print(col,' ',corr.columns[j],val)\n"
   ]
  },
  {
   "cell_type": "markdown",
   "metadata": {},
   "source": [
    "### Very imbalanced dataset "
   ]
  },
  {
   "cell_type": "code",
   "execution_count": 281,
   "metadata": {},
   "outputs": [
    {
     "name": "stdout",
     "output_type": "stream",
     "text": [
      "546\n",
      "3661\n",
      "ratio of Psotive class for the whole class 0.1298\n"
     ]
    }
   ],
   "source": [
    "# imbalance if dataset\n",
    "print(len(y[y==1]))\n",
    "print(len(y[y==0]))\n",
    "print('ratio of Psotive class for the whole class {}'.format(round(len(y[y==1])/y.shape[0],4)))"
   ]
  },
  {
   "cell_type": "code",
   "execution_count": 282,
   "metadata": {},
   "outputs": [],
   "source": [
    "from sklearn.model_selection import train_test_split\n",
    "\n",
    "X_train, X_test, y_train, y_test = train_test_split(normalized_data, y, test_size=0.2, random_state=42)"
   ]
  },
  {
   "cell_type": "markdown",
   "metadata": {},
   "source": [
    "### Baseline model (Without droppong colinear features and deal with imbalanced dataset)"
   ]
  },
  {
   "cell_type": "code",
   "execution_count": 283,
   "metadata": {},
   "outputs": [],
   "source": [
    "from sklearn.svm import SVC\n",
    "from sklearn.ensemble import AdaBoostClassifier"
   ]
  },
  {
   "cell_type": "code",
   "execution_count": 284,
   "metadata": {},
   "outputs": [
    {
     "name": "stdout",
     "output_type": "stream",
     "text": [
      "SVM Score: 0.8836104513064132\n"
     ]
    }
   ],
   "source": [
    "# SVM \n",
    "svm = SVC()\n",
    "svm.fit(X_train,y_train)\n",
    "score_svm = svm.score(X_test,y_test)\n",
    "\n",
    "print('SVM Score: {}'.format(score_svm))\n"
   ]
  },
  {
   "cell_type": "code",
   "execution_count": 285,
   "metadata": {},
   "outputs": [
    {
     "name": "stdout",
     "output_type": "stream",
     "text": [
      "Adaboost Score: 0.8812351543942993\n"
     ]
    }
   ],
   "source": [
    "# Adaboost  \n",
    "ada = AdaBoostClassifier()\n",
    "ada.fit(X_train,y_train)\n",
    "score_ada = ada.score(X_test,y_test)\n",
    "\n",
    "print('Adaboost Score: {}'.format(score_ada))\n"
   ]
  },
  {
   "cell_type": "code",
   "execution_count": 286,
   "metadata": {},
   "outputs": [
    {
     "name": "stdout",
     "output_type": "stream",
     "text": [
      "742\n",
      "100\n"
     ]
    }
   ],
   "source": [
    "# Negative label and posiive label in our testing set \n",
    "print(len(y_test[y_test == 0]))\n",
    "print(len(y_test[y_test == 1]))"
   ]
  },
  {
   "cell_type": "code",
   "execution_count": 287,
   "metadata": {},
   "outputs": [
    {
     "data": {
      "text/plain": [
       "0.8812351543942993"
      ]
     },
     "execution_count": 287,
     "metadata": {},
     "output_type": "execute_result"
    }
   ],
   "source": [
    "742/842"
   ]
  },
  {
   "cell_type": "markdown",
   "metadata": {},
   "source": [
    "### Our data only contains 12% positive classes it means that with zeor-information model (classify all labels to 0 ), the model will still have accuracy of 88%,so the above baseline results are not informative in terms of whether the model is being effective. \n",
    "\n",
    "\n",
    "\n"
   ]
  },
  {
   "cell_type": "markdown",
   "metadata": {},
   "source": [
    "### Next, we fist drop the correlated feature (TDyoy) and balance our train/test dataset first"
   ]
  },
  {
   "cell_type": "code",
   "execution_count": 288,
   "metadata": {},
   "outputs": [],
   "source": [
    "normalized_data = normalized_data.drop(columns = ['TDyoy'])"
   ]
  },
  {
   "cell_type": "code",
   "execution_count": 289,
   "metadata": {},
   "outputs": [],
   "source": [
    "y = pd.DataFrame(y)\n",
    "y.columns = ['Default']\n",
    "positive_idx = y.index[y['Default'] == 1].tolist()\n",
    "negative_idx = y.index[y['Default'] == 0].tolist()\n",
    "\n",
    "# this is an empty row I detected due to unknown issue, delete it for now\n",
    "positive_idx.remove(4207)"
   ]
  },
  {
   "cell_type": "code",
   "execution_count": 290,
   "metadata": {},
   "outputs": [
    {
     "data": {
      "text/plain": [
       "545"
      ]
     },
     "execution_count": 290,
     "metadata": {},
     "output_type": "execute_result"
    }
   ],
   "source": [
    "len(positive_idx)"
   ]
  },
  {
   "cell_type": "code",
   "execution_count": 291,
   "metadata": {
    "scrolled": false
   },
   "outputs": [],
   "source": [
    "# train/test with 546 positve and 600 negative labelled data \n",
    "subset_neg_idx = negative_idx[:600]\n",
    "balanced_data = normalized_data.loc[positive_idx].append(normalized_data.loc[subset_neg_idx])\n",
    "balanced_y = np.array([1]*len(positive_idx) + [0]*len(subset_neg_idx))"
   ]
  },
  {
   "cell_type": "code",
   "execution_count": 292,
   "metadata": {},
   "outputs": [
    {
     "data": {
      "text/html": [
       "<div>\n",
       "<style scoped>\n",
       "    .dataframe tbody tr th:only-of-type {\n",
       "        vertical-align: middle;\n",
       "    }\n",
       "\n",
       "    .dataframe tbody tr th {\n",
       "        vertical-align: top;\n",
       "    }\n",
       "\n",
       "    .dataframe thead th {\n",
       "        text-align: right;\n",
       "    }\n",
       "</style>\n",
       "<table border=\"1\" class=\"dataframe\">\n",
       "  <thead>\n",
       "    <tr style=\"text-align: right;\">\n",
       "      <th></th>\n",
       "      <th>TA</th>\n",
       "      <th>TDE16</th>\n",
       "      <th>TDE17</th>\n",
       "      <th>TDC16</th>\n",
       "      <th>TDC17</th>\n",
       "      <th>TDCyoy</th>\n",
       "      <th>UFCF16</th>\n",
       "      <th>UFCF17</th>\n",
       "      <th>UFCFyoy</th>\n",
       "      <th>IE16</th>\n",
       "      <th>IE17</th>\n",
       "      <th>IEyoy</th>\n",
       "      <th>OLC516</th>\n",
       "      <th>OLC517</th>\n",
       "      <th>OLCyoy</th>\n",
       "      <th>EB16</th>\n",
       "      <th>EB17</th>\n",
       "      <th>EByoy</th>\n",
       "    </tr>\n",
       "  </thead>\n",
       "  <tbody>\n",
       "  </tbody>\n",
       "</table>\n",
       "</div>"
      ],
      "text/plain": [
       "Empty DataFrame\n",
       "Columns: [TA, TDE16, TDE17, TDC16, TDC17, TDCyoy, UFCF16, UFCF17, UFCFyoy, IE16, IE17, IEyoy, OLC516, OLC517, OLCyoy, EB16, EB17, EByoy]\n",
       "Index: []"
      ]
     },
     "execution_count": 292,
     "metadata": {},
     "output_type": "execute_result"
    }
   ],
   "source": [
    "balanced_data[balanced_data.isnull().any(axis=1)]"
   ]
  },
  {
   "cell_type": "code",
   "execution_count": 293,
   "metadata": {},
   "outputs": [
    {
     "name": "stdout",
     "output_type": "stream",
     "text": [
      "SVM Score: 0.8384279475982532\n",
      "Adaboost Score: 0.9912663755458515\n"
     ]
    }
   ],
   "source": [
    "# repeat the above process again for training/ testing \n",
    "\n",
    "X_train, X_test, y_train, y_test = train_test_split(balanced_data, balanced_y, test_size=0.2, random_state=42)\n",
    "\n",
    "# SVM \n",
    "svm = SVC()\n",
    "svm.fit(X_train,y_train)\n",
    "score_svm = svm.score(X_test,y_test)\n",
    "print('SVM Score: {}'.format(score_svm))\n",
    "\n",
    "# Adaboost  \n",
    "ada = AdaBoostClassifier()\n",
    "ada.fit(X_train,y_train)\n",
    "score_ada = ada.score(X_test,y_test)\n",
    "print('Adaboost Score: {}'.format(score_ada))\n",
    "\n",
    "\n"
   ]
  },
  {
   "cell_type": "code",
   "execution_count": 294,
   "metadata": {},
   "outputs": [
    {
     "name": "stdout",
     "output_type": "stream",
     "text": [
      "112\n",
      "117\n"
     ]
    }
   ],
   "source": [
    "# postive/negative samples in our dataset\n",
    "print(len(y_test[y_test == 0]))\n",
    "print(len(y_test[y_test == 1]))"
   ]
  },
  {
   "cell_type": "markdown",
   "metadata": {},
   "source": [
    "### We can see from above that with our colinear features dropping and a more balanced dataset (even though with much less data avaliable), our SVM model's accuracy drops, while our Adaboost (tree based)  model's accuracy increases hugely. Here with a balanced testing set (112 negative vs 117 postive), if we still use zero-information model, we would get roughly 50% accuracy, so it shows that the two new models are much more effective and useful in terms of differentiaing positive and negative classes. Next step will be hyperparameter tuning, dealing with overfitting and feature importance analysis."
   ]
  }
 ],
 "metadata": {
  "kernelspec": {
   "display_name": "Python 3",
   "language": "python",
   "name": "python3"
  },
  "language_info": {
   "codemirror_mode": {
    "name": "ipython",
    "version": 3
   },
   "file_extension": ".py",
   "mimetype": "text/x-python",
   "name": "python",
   "nbconvert_exporter": "python",
   "pygments_lexer": "ipython3",
   "version": "3.7.4"
  }
 },
 "nbformat": 4,
 "nbformat_minor": 2
}
